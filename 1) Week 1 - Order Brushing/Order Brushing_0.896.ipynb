{
 "cells": [
  {
   "cell_type": "code",
   "execution_count": 0,
   "metadata": {
    "colab": {},
    "colab_type": "code",
    "id": "fPEj2Ydd8LkN"
   },
   "outputs": [],
   "source": [
    "import pandas as pd\n",
    "import numpy as np\n",
    "from datetime import timedelta\n",
    "from google.colab import drive "
   ]
  },
  {
   "cell_type": "code",
   "execution_count": 2,
   "metadata": {
    "colab": {
     "base_uri": "https://localhost:8080/",
     "height": 303
    },
    "colab_type": "code",
    "executionInfo": {
     "elapsed": 29708,
     "status": "ok",
     "timestamp": 1592182401639,
     "user": {
      "displayName": "Agung Nugraha",
      "photoUrl": "https://lh3.googleusercontent.com/a-/AOh14Gju0l9fw6mpegA9XB8wB0jIGys2fndafghCNT34=s64",
      "userId": "05431098293597612539"
     },
     "user_tz": -420
    },
    "id": "KkW93yHM80V5",
    "outputId": "edbed66b-5cbe-4cf2-9d37-1dc666ddcdd9"
   },
   "outputs": [
    {
     "name": "stdout",
     "output_type": "stream",
     "text": [
      "Go to this URL in a browser: https://accounts.google.com/o/oauth2/auth?client_id=947318989803-6bn6qk8qdgf4n4g3pfee6491hc0brc4i.apps.googleusercontent.com&redirect_uri=urn%3aietf%3awg%3aoauth%3a2.0%3aoob&response_type=code&scope=email%20https%3a%2f%2fwww.googleapis.com%2fauth%2fdocs.test%20https%3a%2f%2fwww.googleapis.com%2fauth%2fdrive%20https%3a%2f%2fwww.googleapis.com%2fauth%2fdrive.photos.readonly%20https%3a%2f%2fwww.googleapis.com%2fauth%2fpeopleapi.readonly\n",
      "\n",
      "Enter your authorization code:\n",
      "··········\n",
      "Mounted at /content/gdrive\n"
     ]
    },
    {
     "data": {
      "text/html": [
       "<div>\n",
       "<style scoped>\n",
       "    .dataframe tbody tr th:only-of-type {\n",
       "        vertical-align: middle;\n",
       "    }\n",
       "\n",
       "    .dataframe tbody tr th {\n",
       "        vertical-align: top;\n",
       "    }\n",
       "\n",
       "    .dataframe thead th {\n",
       "        text-align: right;\n",
       "    }\n",
       "</style>\n",
       "<table border=\"1\" class=\"dataframe\">\n",
       "  <thead>\n",
       "    <tr style=\"text-align: right;\">\n",
       "      <th></th>\n",
       "      <th>orderid</th>\n",
       "      <th>shopid</th>\n",
       "      <th>userid</th>\n",
       "      <th>event_time</th>\n",
       "    </tr>\n",
       "  </thead>\n",
       "  <tbody>\n",
       "    <tr>\n",
       "      <th>0</th>\n",
       "      <td>31076582227611</td>\n",
       "      <td>93950878</td>\n",
       "      <td>30530270</td>\n",
       "      <td>2019-12-27 00:23:03</td>\n",
       "    </tr>\n",
       "    <tr>\n",
       "      <th>1</th>\n",
       "      <td>31118059853484</td>\n",
       "      <td>156423439</td>\n",
       "      <td>46057927</td>\n",
       "      <td>2019-12-27 11:54:20</td>\n",
       "    </tr>\n",
       "    <tr>\n",
       "      <th>2</th>\n",
       "      <td>31123355095755</td>\n",
       "      <td>173699291</td>\n",
       "      <td>67341739</td>\n",
       "      <td>2019-12-27 13:22:35</td>\n",
       "    </tr>\n",
       "    <tr>\n",
       "      <th>3</th>\n",
       "      <td>31122059872723</td>\n",
       "      <td>63674025</td>\n",
       "      <td>149380322</td>\n",
       "      <td>2019-12-27 13:01:00</td>\n",
       "    </tr>\n",
       "    <tr>\n",
       "      <th>4</th>\n",
       "      <td>31117075665123</td>\n",
       "      <td>127249066</td>\n",
       "      <td>149493217</td>\n",
       "      <td>2019-12-27 11:37:55</td>\n",
       "    </tr>\n",
       "  </tbody>\n",
       "</table>\n",
       "</div>"
      ],
      "text/plain": [
       "          orderid     shopid     userid           event_time\n",
       "0  31076582227611   93950878   30530270  2019-12-27 00:23:03\n",
       "1  31118059853484  156423439   46057927  2019-12-27 11:54:20\n",
       "2  31123355095755  173699291   67341739  2019-12-27 13:22:35\n",
       "3  31122059872723   63674025  149380322  2019-12-27 13:01:00\n",
       "4  31117075665123  127249066  149493217  2019-12-27 11:37:55"
      ]
     },
     "execution_count": 2,
     "metadata": {
      "tags": []
     },
     "output_type": "execute_result"
    }
   ],
   "source": [
    "drive.mount('/content/gdrive')\n",
    "df = pd.read_csv('gdrive/My Drive/Data Science Project/Shoppe Code Challenge 2020/Order Brushing/order_brush_order.csv')\n",
    "df.head()"
   ]
  },
  {
   "cell_type": "code",
   "execution_count": 3,
   "metadata": {
    "colab": {
     "base_uri": "https://localhost:8080/",
     "height": 197
    },
    "colab_type": "code",
    "executionInfo": {
     "elapsed": 918,
     "status": "ok",
     "timestamp": 1592182405958,
     "user": {
      "displayName": "Agung Nugraha",
      "photoUrl": "https://lh3.googleusercontent.com/a-/AOh14Gju0l9fw6mpegA9XB8wB0jIGys2fndafghCNT34=s64",
      "userId": "05431098293597612539"
     },
     "user_tz": -420
    },
    "id": "phakOA2e9UVA",
    "outputId": "51f3cee5-0dbf-4bf9-8adc-69de7794f337"
   },
   "outputs": [
    {
     "name": "stdout",
     "output_type": "stream",
     "text": [
      "<class 'pandas.core.frame.DataFrame'>\n",
      "RangeIndex: 222750 entries, 0 to 222749\n",
      "Data columns (total 4 columns):\n",
      " #   Column      Non-Null Count   Dtype \n",
      "---  ------      --------------   ----- \n",
      " 0   orderid     222750 non-null  int64 \n",
      " 1   shopid      222750 non-null  int64 \n",
      " 2   userid      222750 non-null  int64 \n",
      " 3   event_time  222750 non-null  object\n",
      "dtypes: int64(3), object(1)\n",
      "memory usage: 6.8+ MB\n"
     ]
    }
   ],
   "source": [
    "df.info()"
   ]
  },
  {
   "cell_type": "code",
   "execution_count": 4,
   "metadata": {
    "colab": {
     "base_uri": "https://localhost:8080/",
     "height": 197
    },
    "colab_type": "code",
    "executionInfo": {
     "elapsed": 813,
     "status": "ok",
     "timestamp": 1592182406977,
     "user": {
      "displayName": "Agung Nugraha",
      "photoUrl": "https://lh3.googleusercontent.com/a-/AOh14Gju0l9fw6mpegA9XB8wB0jIGys2fndafghCNT34=s64",
      "userId": "05431098293597612539"
     },
     "user_tz": -420
    },
    "id": "HlmJsxT49ex_",
    "outputId": "64e704c1-3400-4feb-86ea-4f6911edf6df"
   },
   "outputs": [
    {
     "name": "stdout",
     "output_type": "stream",
     "text": [
      "<class 'pandas.core.frame.DataFrame'>\n",
      "RangeIndex: 222750 entries, 0 to 222749\n",
      "Data columns (total 4 columns):\n",
      " #   Column      Non-Null Count   Dtype         \n",
      "---  ------      --------------   -----         \n",
      " 0   orderid     222750 non-null  int64         \n",
      " 1   shopid      222750 non-null  int64         \n",
      " 2   userid      222750 non-null  int64         \n",
      " 3   event_time  222750 non-null  datetime64[ns]\n",
      "dtypes: datetime64[ns](1), int64(3)\n",
      "memory usage: 6.8 MB\n"
     ]
    }
   ],
   "source": [
    "df['event_time'] = pd.to_datetime(df['event_time'])\n",
    "df.info()"
   ]
  },
  {
   "cell_type": "code",
   "execution_count": 5,
   "metadata": {
    "colab": {
     "base_uri": "https://localhost:8080/",
     "height": 32
    },
    "colab_type": "code",
    "executionInfo": {
     "elapsed": 643,
     "status": "ok",
     "timestamp": 1592182408620,
     "user": {
      "displayName": "Agung Nugraha",
      "photoUrl": "https://lh3.googleusercontent.com/a-/AOh14Gju0l9fw6mpegA9XB8wB0jIGys2fndafghCNT34=s64",
      "userId": "05431098293597612539"
     },
     "user_tz": -420
    },
    "id": "4Ngw-3Iz9m8j",
    "outputId": "9cee6359-6211-4bb7-ba30-34ee5a8948ee"
   },
   "outputs": [
    {
     "data": {
      "text/plain": [
       "18770"
      ]
     },
     "execution_count": 5,
     "metadata": {
      "tags": []
     },
     "output_type": "execute_result"
    }
   ],
   "source": [
    "shopid_unique = sorted(df['shopid'].unique())\n",
    "len(shopid_unique)"
   ]
  },
  {
   "cell_type": "code",
   "execution_count": 0,
   "metadata": {
    "colab": {
     "base_uri": "https://localhost:8080/",
     "height": 1000
    },
    "colab_type": "code",
    "executionInfo": {
     "elapsed": 2755,
     "status": "ok",
     "timestamp": 1592155688479,
     "user": {
      "displayName": "Agung Nugraha",
      "photoUrl": "https://lh3.googleusercontent.com/a-/AOh14Gju0l9fw6mpegA9XB8wB0jIGys2fndafghCNT34=s64",
      "userId": "05431098293597612539"
     },
     "user_tz": -420
    },
    "id": "I-3X_K6J-Nr6",
    "outputId": "90ff04da-4e33-4239-add4-22d13d2e777d"
   },
   "outputs": [
    {
     "data": {
      "text/html": [
       "<div>\n",
       "<style scoped>\n",
       "    .dataframe tbody tr th:only-of-type {\n",
       "        vertical-align: middle;\n",
       "    }\n",
       "\n",
       "    .dataframe tbody tr th {\n",
       "        vertical-align: top;\n",
       "    }\n",
       "\n",
       "    .dataframe thead th {\n",
       "        text-align: right;\n",
       "    }\n",
       "</style>\n",
       "<table border=\"1\" class=\"dataframe\">\n",
       "  <thead>\n",
       "    <tr style=\"text-align: right;\">\n",
       "      <th></th>\n",
       "      <th>orderid</th>\n",
       "      <th>shopid</th>\n",
       "      <th>userid</th>\n",
       "      <th>event_time</th>\n",
       "    </tr>\n",
       "  </thead>\n",
       "  <tbody>\n",
       "    <tr>\n",
       "      <th>1436</th>\n",
       "      <td>31221433435774</td>\n",
       "      <td>8996761</td>\n",
       "      <td>162508227</td>\n",
       "      <td>2019-12-28 16:37:13</td>\n",
       "    </tr>\n",
       "    <tr>\n",
       "      <th>8979</th>\n",
       "      <td>31303785458991</td>\n",
       "      <td>8996761</td>\n",
       "      <td>137245836</td>\n",
       "      <td>2019-12-29 15:29:45</td>\n",
       "    </tr>\n",
       "    <tr>\n",
       "      <th>17116</th>\n",
       "      <td>31463329902935</td>\n",
       "      <td>8996761</td>\n",
       "      <td>215382704</td>\n",
       "      <td>2019-12-31 11:48:49</td>\n",
       "    </tr>\n",
       "    <tr>\n",
       "      <th>22191</th>\n",
       "      <td>31414932513261</td>\n",
       "      <td>8996761</td>\n",
       "      <td>162508227</td>\n",
       "      <td>2019-12-30 22:22:13</td>\n",
       "    </tr>\n",
       "    <tr>\n",
       "      <th>26346</th>\n",
       "      <td>31463906062704</td>\n",
       "      <td>8996761</td>\n",
       "      <td>2136861</td>\n",
       "      <td>2019-12-31 11:58:26</td>\n",
       "    </tr>\n",
       "    <tr>\n",
       "      <th>30606</th>\n",
       "      <td>31378416988874</td>\n",
       "      <td>8996761</td>\n",
       "      <td>137245836</td>\n",
       "      <td>2019-12-30 12:13:36</td>\n",
       "    </tr>\n",
       "    <tr>\n",
       "      <th>37651</th>\n",
       "      <td>31321903640506</td>\n",
       "      <td>8996761</td>\n",
       "      <td>15183979</td>\n",
       "      <td>2019-12-29 20:31:43</td>\n",
       "    </tr>\n",
       "    <tr>\n",
       "      <th>37737</th>\n",
       "      <td>31415033685146</td>\n",
       "      <td>8996761</td>\n",
       "      <td>162508227</td>\n",
       "      <td>2019-12-30 22:23:53</td>\n",
       "    </tr>\n",
       "    <tr>\n",
       "      <th>52698</th>\n",
       "      <td>31419193808097</td>\n",
       "      <td>8996761</td>\n",
       "      <td>137245836</td>\n",
       "      <td>2019-12-30 23:33:14</td>\n",
       "    </tr>\n",
       "    <tr>\n",
       "      <th>56176</th>\n",
       "      <td>31420198085093</td>\n",
       "      <td>8996761</td>\n",
       "      <td>15183979</td>\n",
       "      <td>2019-12-30 23:49:58</td>\n",
       "    </tr>\n",
       "    <tr>\n",
       "      <th>57411</th>\n",
       "      <td>31221501326851</td>\n",
       "      <td>8996761</td>\n",
       "      <td>162508227</td>\n",
       "      <td>2019-12-28 16:38:22</td>\n",
       "    </tr>\n",
       "    <tr>\n",
       "      <th>58652</th>\n",
       "      <td>31414219467536</td>\n",
       "      <td>8996761</td>\n",
       "      <td>163123768</td>\n",
       "      <td>2019-12-30 22:10:19</td>\n",
       "    </tr>\n",
       "    <tr>\n",
       "      <th>64862</th>\n",
       "      <td>31463701425020</td>\n",
       "      <td>8996761</td>\n",
       "      <td>215382704</td>\n",
       "      <td>2019-12-31 11:55:01</td>\n",
       "    </tr>\n",
       "    <tr>\n",
       "      <th>64988</th>\n",
       "      <td>31197099132601</td>\n",
       "      <td>8996761</td>\n",
       "      <td>2136861</td>\n",
       "      <td>2019-12-28 09:51:40</td>\n",
       "    </tr>\n",
       "    <tr>\n",
       "      <th>80140</th>\n",
       "      <td>31367846625435</td>\n",
       "      <td>8996761</td>\n",
       "      <td>151327544</td>\n",
       "      <td>2019-12-30 09:17:27</td>\n",
       "    </tr>\n",
       "    <tr>\n",
       "      <th>83426</th>\n",
       "      <td>31463960795761</td>\n",
       "      <td>8996761</td>\n",
       "      <td>2136861</td>\n",
       "      <td>2019-12-31 11:59:20</td>\n",
       "    </tr>\n",
       "    <tr>\n",
       "      <th>85639</th>\n",
       "      <td>31197009072133</td>\n",
       "      <td>8996761</td>\n",
       "      <td>2136861</td>\n",
       "      <td>2019-12-28 09:50:10</td>\n",
       "    </tr>\n",
       "    <tr>\n",
       "      <th>101291</th>\n",
       "      <td>31420669820669</td>\n",
       "      <td>8996761</td>\n",
       "      <td>15182097</td>\n",
       "      <td>2019-12-30 23:57:50</td>\n",
       "    </tr>\n",
       "    <tr>\n",
       "      <th>110220</th>\n",
       "      <td>31289016357484</td>\n",
       "      <td>8996761</td>\n",
       "      <td>13135622</td>\n",
       "      <td>2019-12-29 11:23:36</td>\n",
       "    </tr>\n",
       "    <tr>\n",
       "      <th>115272</th>\n",
       "      <td>31323834307549</td>\n",
       "      <td>8996761</td>\n",
       "      <td>137245836</td>\n",
       "      <td>2019-12-29 21:03:54</td>\n",
       "    </tr>\n",
       "    <tr>\n",
       "      <th>130442</th>\n",
       "      <td>31413988472552</td>\n",
       "      <td>8996761</td>\n",
       "      <td>163123768</td>\n",
       "      <td>2019-12-30 22:06:28</td>\n",
       "    </tr>\n",
       "    <tr>\n",
       "      <th>141887</th>\n",
       "      <td>31295266255667</td>\n",
       "      <td>8996761</td>\n",
       "      <td>151327544</td>\n",
       "      <td>2019-12-29 13:07:46</td>\n",
       "    </tr>\n",
       "    <tr>\n",
       "      <th>142422</th>\n",
       "      <td>31221615158739</td>\n",
       "      <td>8996761</td>\n",
       "      <td>162508227</td>\n",
       "      <td>2019-12-28 16:40:15</td>\n",
       "    </tr>\n",
       "    <tr>\n",
       "      <th>162783</th>\n",
       "      <td>31391119570643</td>\n",
       "      <td>8996761</td>\n",
       "      <td>15183979</td>\n",
       "      <td>2019-12-30 15:45:20</td>\n",
       "    </tr>\n",
       "    <tr>\n",
       "      <th>163177</th>\n",
       "      <td>31420848484212</td>\n",
       "      <td>8996761</td>\n",
       "      <td>2136861</td>\n",
       "      <td>2019-12-31 00:00:48</td>\n",
       "    </tr>\n",
       "    <tr>\n",
       "      <th>165247</th>\n",
       "      <td>31289198789997</td>\n",
       "      <td>8996761</td>\n",
       "      <td>13135622</td>\n",
       "      <td>2019-12-29 11:26:39</td>\n",
       "    </tr>\n",
       "    <tr>\n",
       "      <th>166235</th>\n",
       "      <td>31463618079296</td>\n",
       "      <td>8996761</td>\n",
       "      <td>215382704</td>\n",
       "      <td>2019-12-31 11:53:38</td>\n",
       "    </tr>\n",
       "    <tr>\n",
       "      <th>180859</th>\n",
       "      <td>31289143347095</td>\n",
       "      <td>8996761</td>\n",
       "      <td>13135622</td>\n",
       "      <td>2019-12-29 11:25:43</td>\n",
       "    </tr>\n",
       "    <tr>\n",
       "      <th>197220</th>\n",
       "      <td>31463516755431</td>\n",
       "      <td>8996761</td>\n",
       "      <td>215382704</td>\n",
       "      <td>2019-12-31 11:51:56</td>\n",
       "    </tr>\n",
       "    <tr>\n",
       "      <th>206471</th>\n",
       "      <td>31323748030850</td>\n",
       "      <td>8996761</td>\n",
       "      <td>137245836</td>\n",
       "      <td>2019-12-29 21:02:28</td>\n",
       "    </tr>\n",
       "    <tr>\n",
       "      <th>217111</th>\n",
       "      <td>31295328244372</td>\n",
       "      <td>8996761</td>\n",
       "      <td>151327544</td>\n",
       "      <td>2019-12-29 13:08:49</td>\n",
       "    </tr>\n",
       "    <tr>\n",
       "      <th>221093</th>\n",
       "      <td>31322062433973</td>\n",
       "      <td>8996761</td>\n",
       "      <td>137245836</td>\n",
       "      <td>2019-12-29 20:34:22</td>\n",
       "    </tr>\n",
       "  </tbody>\n",
       "</table>\n",
       "</div>"
      ],
      "text/plain": [
       "               orderid   shopid     userid          event_time\n",
       "1436    31221433435774  8996761  162508227 2019-12-28 16:37:13\n",
       "8979    31303785458991  8996761  137245836 2019-12-29 15:29:45\n",
       "17116   31463329902935  8996761  215382704 2019-12-31 11:48:49\n",
       "22191   31414932513261  8996761  162508227 2019-12-30 22:22:13\n",
       "26346   31463906062704  8996761    2136861 2019-12-31 11:58:26\n",
       "30606   31378416988874  8996761  137245836 2019-12-30 12:13:36\n",
       "37651   31321903640506  8996761   15183979 2019-12-29 20:31:43\n",
       "37737   31415033685146  8996761  162508227 2019-12-30 22:23:53\n",
       "52698   31419193808097  8996761  137245836 2019-12-30 23:33:14\n",
       "56176   31420198085093  8996761   15183979 2019-12-30 23:49:58\n",
       "57411   31221501326851  8996761  162508227 2019-12-28 16:38:22\n",
       "58652   31414219467536  8996761  163123768 2019-12-30 22:10:19\n",
       "64862   31463701425020  8996761  215382704 2019-12-31 11:55:01\n",
       "64988   31197099132601  8996761    2136861 2019-12-28 09:51:40\n",
       "80140   31367846625435  8996761  151327544 2019-12-30 09:17:27\n",
       "83426   31463960795761  8996761    2136861 2019-12-31 11:59:20\n",
       "85639   31197009072133  8996761    2136861 2019-12-28 09:50:10\n",
       "101291  31420669820669  8996761   15182097 2019-12-30 23:57:50\n",
       "110220  31289016357484  8996761   13135622 2019-12-29 11:23:36\n",
       "115272  31323834307549  8996761  137245836 2019-12-29 21:03:54\n",
       "130442  31413988472552  8996761  163123768 2019-12-30 22:06:28\n",
       "141887  31295266255667  8996761  151327544 2019-12-29 13:07:46\n",
       "142422  31221615158739  8996761  162508227 2019-12-28 16:40:15\n",
       "162783  31391119570643  8996761   15183979 2019-12-30 15:45:20\n",
       "163177  31420848484212  8996761    2136861 2019-12-31 00:00:48\n",
       "165247  31289198789997  8996761   13135622 2019-12-29 11:26:39\n",
       "166235  31463618079296  8996761  215382704 2019-12-31 11:53:38\n",
       "180859  31289143347095  8996761   13135622 2019-12-29 11:25:43\n",
       "197220  31463516755431  8996761  215382704 2019-12-31 11:51:56\n",
       "206471  31323748030850  8996761  137245836 2019-12-29 21:02:28\n",
       "217111  31295328244372  8996761  151327544 2019-12-29 13:08:49\n",
       "221093  31322062433973  8996761  137245836 2019-12-29 20:34:22"
      ]
     },
     "execution_count": 146,
     "metadata": {
      "tags": []
     },
     "output_type": "execute_result"
    }
   ],
   "source": [
    "df[df['shopid'] == 8996761] #datafrom example 1"
   ]
  },
  {
   "cell_type": "code",
   "execution_count": 0,
   "metadata": {
    "colab": {
     "base_uri": "https://localhost:8080/",
     "height": 1000
    },
    "colab_type": "code",
    "executionInfo": {
     "elapsed": 1539,
     "status": "ok",
     "timestamp": 1592155696786,
     "user": {
      "displayName": "Agung Nugraha",
      "photoUrl": "https://lh3.googleusercontent.com/a-/AOh14Gju0l9fw6mpegA9XB8wB0jIGys2fndafghCNT34=s64",
      "userId": "05431098293597612539"
     },
     "user_tz": -420
    },
    "id": "rU18Go7H-SLO",
    "outputId": "7a394e8e-b4d4-4906-9319-3671bdfdfa74"
   },
   "outputs": [
    {
     "name": "stderr",
     "output_type": "stream",
     "text": [
      "/usr/local/lib/python3.6/dist-packages/ipykernel_launcher.py:2: SettingWithCopyWarning: \n",
      "A value is trying to be set on a copy of a slice from a DataFrame\n",
      "\n",
      "See the caveats in the documentation: https://pandas.pydata.org/pandas-docs/stable/user_guide/indexing.html#returning-a-view-versus-a-copy\n",
      "  \n"
     ]
    },
    {
     "data": {
      "text/html": [
       "<div>\n",
       "<style scoped>\n",
       "    .dataframe tbody tr th:only-of-type {\n",
       "        vertical-align: middle;\n",
       "    }\n",
       "\n",
       "    .dataframe tbody tr th {\n",
       "        vertical-align: top;\n",
       "    }\n",
       "\n",
       "    .dataframe thead th {\n",
       "        text-align: right;\n",
       "    }\n",
       "</style>\n",
       "<table border=\"1\" class=\"dataframe\">\n",
       "  <thead>\n",
       "    <tr style=\"text-align: right;\">\n",
       "      <th></th>\n",
       "      <th>orderid</th>\n",
       "      <th>shopid</th>\n",
       "      <th>userid</th>\n",
       "      <th>event_time</th>\n",
       "    </tr>\n",
       "  </thead>\n",
       "  <tbody>\n",
       "    <tr>\n",
       "      <th>0</th>\n",
       "      <td>31197009072133</td>\n",
       "      <td>8996761</td>\n",
       "      <td>2136861</td>\n",
       "      <td>2019-12-28 09:50:10</td>\n",
       "    </tr>\n",
       "    <tr>\n",
       "      <th>1</th>\n",
       "      <td>31197099132601</td>\n",
       "      <td>8996761</td>\n",
       "      <td>2136861</td>\n",
       "      <td>2019-12-28 09:51:40</td>\n",
       "    </tr>\n",
       "    <tr>\n",
       "      <th>2</th>\n",
       "      <td>31221433435774</td>\n",
       "      <td>8996761</td>\n",
       "      <td>162508227</td>\n",
       "      <td>2019-12-28 16:37:13</td>\n",
       "    </tr>\n",
       "    <tr>\n",
       "      <th>3</th>\n",
       "      <td>31221501326851</td>\n",
       "      <td>8996761</td>\n",
       "      <td>162508227</td>\n",
       "      <td>2019-12-28 16:38:22</td>\n",
       "    </tr>\n",
       "    <tr>\n",
       "      <th>4</th>\n",
       "      <td>31221615158739</td>\n",
       "      <td>8996761</td>\n",
       "      <td>162508227</td>\n",
       "      <td>2019-12-28 16:40:15</td>\n",
       "    </tr>\n",
       "    <tr>\n",
       "      <th>5</th>\n",
       "      <td>31289016357484</td>\n",
       "      <td>8996761</td>\n",
       "      <td>13135622</td>\n",
       "      <td>2019-12-29 11:23:36</td>\n",
       "    </tr>\n",
       "    <tr>\n",
       "      <th>6</th>\n",
       "      <td>31289143347095</td>\n",
       "      <td>8996761</td>\n",
       "      <td>13135622</td>\n",
       "      <td>2019-12-29 11:25:43</td>\n",
       "    </tr>\n",
       "    <tr>\n",
       "      <th>7</th>\n",
       "      <td>31289198789997</td>\n",
       "      <td>8996761</td>\n",
       "      <td>13135622</td>\n",
       "      <td>2019-12-29 11:26:39</td>\n",
       "    </tr>\n",
       "    <tr>\n",
       "      <th>8</th>\n",
       "      <td>31295266255667</td>\n",
       "      <td>8996761</td>\n",
       "      <td>151327544</td>\n",
       "      <td>2019-12-29 13:07:46</td>\n",
       "    </tr>\n",
       "    <tr>\n",
       "      <th>9</th>\n",
       "      <td>31295328244372</td>\n",
       "      <td>8996761</td>\n",
       "      <td>151327544</td>\n",
       "      <td>2019-12-29 13:08:49</td>\n",
       "    </tr>\n",
       "    <tr>\n",
       "      <th>10</th>\n",
       "      <td>31303785458991</td>\n",
       "      <td>8996761</td>\n",
       "      <td>137245836</td>\n",
       "      <td>2019-12-29 15:29:45</td>\n",
       "    </tr>\n",
       "    <tr>\n",
       "      <th>11</th>\n",
       "      <td>31321903640506</td>\n",
       "      <td>8996761</td>\n",
       "      <td>15183979</td>\n",
       "      <td>2019-12-29 20:31:43</td>\n",
       "    </tr>\n",
       "    <tr>\n",
       "      <th>12</th>\n",
       "      <td>31322062433973</td>\n",
       "      <td>8996761</td>\n",
       "      <td>137245836</td>\n",
       "      <td>2019-12-29 20:34:22</td>\n",
       "    </tr>\n",
       "    <tr>\n",
       "      <th>13</th>\n",
       "      <td>31323748030850</td>\n",
       "      <td>8996761</td>\n",
       "      <td>137245836</td>\n",
       "      <td>2019-12-29 21:02:28</td>\n",
       "    </tr>\n",
       "    <tr>\n",
       "      <th>14</th>\n",
       "      <td>31323834307549</td>\n",
       "      <td>8996761</td>\n",
       "      <td>137245836</td>\n",
       "      <td>2019-12-29 21:03:54</td>\n",
       "    </tr>\n",
       "    <tr>\n",
       "      <th>15</th>\n",
       "      <td>31367846625435</td>\n",
       "      <td>8996761</td>\n",
       "      <td>151327544</td>\n",
       "      <td>2019-12-30 09:17:27</td>\n",
       "    </tr>\n",
       "    <tr>\n",
       "      <th>16</th>\n",
       "      <td>31378416988874</td>\n",
       "      <td>8996761</td>\n",
       "      <td>137245836</td>\n",
       "      <td>2019-12-30 12:13:36</td>\n",
       "    </tr>\n",
       "    <tr>\n",
       "      <th>17</th>\n",
       "      <td>31391119570643</td>\n",
       "      <td>8996761</td>\n",
       "      <td>15183979</td>\n",
       "      <td>2019-12-30 15:45:20</td>\n",
       "    </tr>\n",
       "    <tr>\n",
       "      <th>18</th>\n",
       "      <td>31413988472552</td>\n",
       "      <td>8996761</td>\n",
       "      <td>163123768</td>\n",
       "      <td>2019-12-30 22:06:28</td>\n",
       "    </tr>\n",
       "    <tr>\n",
       "      <th>19</th>\n",
       "      <td>31414219467536</td>\n",
       "      <td>8996761</td>\n",
       "      <td>163123768</td>\n",
       "      <td>2019-12-30 22:10:19</td>\n",
       "    </tr>\n",
       "    <tr>\n",
       "      <th>20</th>\n",
       "      <td>31414932513261</td>\n",
       "      <td>8996761</td>\n",
       "      <td>162508227</td>\n",
       "      <td>2019-12-30 22:22:13</td>\n",
       "    </tr>\n",
       "    <tr>\n",
       "      <th>21</th>\n",
       "      <td>31415033685146</td>\n",
       "      <td>8996761</td>\n",
       "      <td>162508227</td>\n",
       "      <td>2019-12-30 22:23:53</td>\n",
       "    </tr>\n",
       "    <tr>\n",
       "      <th>22</th>\n",
       "      <td>31419193808097</td>\n",
       "      <td>8996761</td>\n",
       "      <td>137245836</td>\n",
       "      <td>2019-12-30 23:33:14</td>\n",
       "    </tr>\n",
       "    <tr>\n",
       "      <th>23</th>\n",
       "      <td>31420198085093</td>\n",
       "      <td>8996761</td>\n",
       "      <td>15183979</td>\n",
       "      <td>2019-12-30 23:49:58</td>\n",
       "    </tr>\n",
       "    <tr>\n",
       "      <th>24</th>\n",
       "      <td>31420669820669</td>\n",
       "      <td>8996761</td>\n",
       "      <td>15182097</td>\n",
       "      <td>2019-12-30 23:57:50</td>\n",
       "    </tr>\n",
       "    <tr>\n",
       "      <th>25</th>\n",
       "      <td>31420848484212</td>\n",
       "      <td>8996761</td>\n",
       "      <td>2136861</td>\n",
       "      <td>2019-12-31 00:00:48</td>\n",
       "    </tr>\n",
       "    <tr>\n",
       "      <th>26</th>\n",
       "      <td>31463329902935</td>\n",
       "      <td>8996761</td>\n",
       "      <td>215382704</td>\n",
       "      <td>2019-12-31 11:48:49</td>\n",
       "    </tr>\n",
       "    <tr>\n",
       "      <th>27</th>\n",
       "      <td>31463516755431</td>\n",
       "      <td>8996761</td>\n",
       "      <td>215382704</td>\n",
       "      <td>2019-12-31 11:51:56</td>\n",
       "    </tr>\n",
       "    <tr>\n",
       "      <th>28</th>\n",
       "      <td>31463618079296</td>\n",
       "      <td>8996761</td>\n",
       "      <td>215382704</td>\n",
       "      <td>2019-12-31 11:53:38</td>\n",
       "    </tr>\n",
       "    <tr>\n",
       "      <th>29</th>\n",
       "      <td>31463701425020</td>\n",
       "      <td>8996761</td>\n",
       "      <td>215382704</td>\n",
       "      <td>2019-12-31 11:55:01</td>\n",
       "    </tr>\n",
       "    <tr>\n",
       "      <th>30</th>\n",
       "      <td>31463906062704</td>\n",
       "      <td>8996761</td>\n",
       "      <td>2136861</td>\n",
       "      <td>2019-12-31 11:58:26</td>\n",
       "    </tr>\n",
       "    <tr>\n",
       "      <th>31</th>\n",
       "      <td>31463960795761</td>\n",
       "      <td>8996761</td>\n",
       "      <td>2136861</td>\n",
       "      <td>2019-12-31 11:59:20</td>\n",
       "    </tr>\n",
       "  </tbody>\n",
       "</table>\n",
       "</div>"
      ],
      "text/plain": [
       "           orderid   shopid     userid          event_time\n",
       "0   31197009072133  8996761    2136861 2019-12-28 09:50:10\n",
       "1   31197099132601  8996761    2136861 2019-12-28 09:51:40\n",
       "2   31221433435774  8996761  162508227 2019-12-28 16:37:13\n",
       "3   31221501326851  8996761  162508227 2019-12-28 16:38:22\n",
       "4   31221615158739  8996761  162508227 2019-12-28 16:40:15\n",
       "5   31289016357484  8996761   13135622 2019-12-29 11:23:36\n",
       "6   31289143347095  8996761   13135622 2019-12-29 11:25:43\n",
       "7   31289198789997  8996761   13135622 2019-12-29 11:26:39\n",
       "8   31295266255667  8996761  151327544 2019-12-29 13:07:46\n",
       "9   31295328244372  8996761  151327544 2019-12-29 13:08:49\n",
       "10  31303785458991  8996761  137245836 2019-12-29 15:29:45\n",
       "11  31321903640506  8996761   15183979 2019-12-29 20:31:43\n",
       "12  31322062433973  8996761  137245836 2019-12-29 20:34:22\n",
       "13  31323748030850  8996761  137245836 2019-12-29 21:02:28\n",
       "14  31323834307549  8996761  137245836 2019-12-29 21:03:54\n",
       "15  31367846625435  8996761  151327544 2019-12-30 09:17:27\n",
       "16  31378416988874  8996761  137245836 2019-12-30 12:13:36\n",
       "17  31391119570643  8996761   15183979 2019-12-30 15:45:20\n",
       "18  31413988472552  8996761  163123768 2019-12-30 22:06:28\n",
       "19  31414219467536  8996761  163123768 2019-12-30 22:10:19\n",
       "20  31414932513261  8996761  162508227 2019-12-30 22:22:13\n",
       "21  31415033685146  8996761  162508227 2019-12-30 22:23:53\n",
       "22  31419193808097  8996761  137245836 2019-12-30 23:33:14\n",
       "23  31420198085093  8996761   15183979 2019-12-30 23:49:58\n",
       "24  31420669820669  8996761   15182097 2019-12-30 23:57:50\n",
       "25  31420848484212  8996761    2136861 2019-12-31 00:00:48\n",
       "26  31463329902935  8996761  215382704 2019-12-31 11:48:49\n",
       "27  31463516755431  8996761  215382704 2019-12-31 11:51:56\n",
       "28  31463618079296  8996761  215382704 2019-12-31 11:53:38\n",
       "29  31463701425020  8996761  215382704 2019-12-31 11:55:01\n",
       "30  31463906062704  8996761    2136861 2019-12-31 11:58:26\n",
       "31  31463960795761  8996761    2136861 2019-12-31 11:59:20"
      ]
     },
     "execution_count": 147,
     "metadata": {
      "tags": []
     },
     "output_type": "execute_result"
    }
   ],
   "source": [
    "df_example = df[df['shopid'] == 8996761]\n",
    "df_example.sort_values(by='event_time',inplace=True)\n",
    "df_example.reset_index(inplace=True,drop=True)\n",
    "df_example"
   ]
  },
  {
   "cell_type": "code",
   "execution_count": 0,
   "metadata": {
    "colab": {
     "base_uri": "https://localhost:8080/",
     "height": 32
    },
    "colab_type": "code",
    "executionInfo": {
     "elapsed": 1582,
     "status": "ok",
     "timestamp": 1592155710289,
     "user": {
      "displayName": "Agung Nugraha",
      "photoUrl": "https://lh3.googleusercontent.com/a-/AOh14Gju0l9fw6mpegA9XB8wB0jIGys2fndafghCNT34=s64",
      "userId": "05431098293597612539"
     },
     "user_tz": -420
    },
    "id": "ZEEnw5DR_J5N",
    "outputId": "72a4fa2f-34d7-4356-92d4-d7f858d2bfc6"
   },
   "outputs": [
    {
     "name": "stdout",
     "output_type": "stream",
     "text": [
      "shopid : [8996761] user : ['215382704']\n"
     ]
    }
   ],
   "source": [
    "shopid_suspect = [df_example.iloc[0]['shopid']]\n",
    "userid_suspect = []\n",
    "#-----------------------\n",
    "suspect_user = []\n",
    "proportion = 0\n",
    "for idx in range(len(df_example)):\n",
    "  # check concentrate\n",
    "  Date = df_example.loc[idx]['event_time']\n",
    "  Date_end = Date + timedelta(hours=1)\n",
    "  df_perhour = df_example[(df_example['event_time'] >= Date) & (df_example['event_time'] <= Date_end)]\n",
    "  concentrate = len(df_perhour) / len(df_perhour['userid'].unique()) \n",
    "  if concentrate >= 3:\n",
    "    #check proportion\n",
    "    df_proportion = df_perhour.groupby('userid').count().sort_values(by='orderid',ascending=False).reset_index()\n",
    "    proportion_temp = df_proportion['orderid'].max()\n",
    "    df_promax = df_proportion[df_proportion['orderid'] == proportion_temp]\n",
    "    if proportion_temp > proportion :\n",
    "      #highest proportion\n",
    "      proportion += proportion_temp\n",
    "      suspect_user = list(df_promax['userid'])\n",
    "    elif proportion_temp == proportion:\n",
    "      # same proportion\n",
    "      new_suspect = list(df_promax['userid'])\n",
    "      for new in new_suspect:\n",
    "        if new not in suspect_user:\n",
    "          suspect_user.append(new)\n",
    "        else:\n",
    "          pass\n",
    "    else :\n",
    "      pass\n",
    "   \n",
    "  else:\n",
    "    pass\n",
    "\n",
    "if len(suspect_user) == 0:\n",
    "  userid_suspect.append('0')\n",
    "elif len(suspect_user) == 1:\n",
    "  userid_suspect.append(str(suspect_user[0]))\n",
    "else:\n",
    "  str_suspect = []\n",
    "  for suspect in suspect_user:\n",
    "    str_suspect.append(str(suspect))\n",
    "  userid_suspect.append('&'.join(str_suspect))\n",
    "\n",
    "print('shopid :',shopid_suspect, 'user :',userid_suspect)\n",
    "\n",
    "# --------------\n",
    "# using this formula to all shopid"
   ]
  },
  {
   "cell_type": "code",
   "execution_count": 0,
   "metadata": {
    "colab": {
     "base_uri": "https://localhost:8080/",
     "height": 98
    },
    "colab_type": "code",
    "executionInfo": {
     "elapsed": 326471,
     "status": "ok",
     "timestamp": 1592156180612,
     "user": {
      "displayName": "Agung Nugraha",
      "photoUrl": "https://lh3.googleusercontent.com/a-/AOh14Gju0l9fw6mpegA9XB8wB0jIGys2fndafghCNT34=s64",
      "userId": "05431098293597612539"
     },
     "user_tz": -420
    },
    "id": "ehngzc8NW9rN",
    "outputId": "5a8b7cfc-1485-4d9d-e073-8bebec2ae389"
   },
   "outputs": [
    {
     "name": "stderr",
     "output_type": "stream",
     "text": [
      "/usr/local/lib/python3.6/dist-packages/ipykernel_launcher.py:6: SettingWithCopyWarning: \n",
      "A value is trying to be set on a copy of a slice from a DataFrame\n",
      "\n",
      "See the caveats in the documentation: https://pandas.pydata.org/pandas-docs/stable/user_guide/indexing.html#returning-a-view-versus-a-copy\n",
      "  \n"
     ]
    }
   ],
   "source": [
    "shopid_suspect = []\n",
    "userid_suspect = []\n",
    "#-----------------------\n",
    "for shop in shopid_unique:\n",
    "  df_unique = df[df['shopid'] == shop]\n",
    "  df_unique.sort_values(by='event_time',inplace=True)\n",
    "  df_unique.reset_index(inplace=True,drop=True)\n",
    "  suspect_user = []\n",
    "  proportion = 0\n",
    "  for idx in range(len(df_unique)):\n",
    "    # check concentrate\n",
    "    Date = df_unique.loc[idx]['event_time']\n",
    "    Date_end = Date + timedelta(hours=1)\n",
    "    df_perhour = df_unique[(df_unique['event_time'] >= Date) & (df_unique['event_time'] <= Date_end)]\n",
    "    concentrate = len(df_perhour) / len(df_perhour['userid'].unique()) \n",
    "    if concentrate >= 3:\n",
    "      #check proportion\n",
    "      df_proportion = df_perhour.groupby('userid').count().sort_values(by='orderid',ascending=False).reset_index()\n",
    "      proportion_temp = df_proportion['orderid'].max()\n",
    "      df_promax = df_proportion[df_proportion['orderid'] == proportion_temp]\n",
    "      if proportion_temp > proportion :\n",
    "        #highest proportion\n",
    "        proportion += proportion_temp\n",
    "        suspect_user = list(df_promax['userid'])\n",
    "      elif proportion_temp == proportion:\n",
    "        # same proportion\n",
    "        new_suspect = list(df_promax['userid'])\n",
    "        for new in new_suspect:\n",
    "          if new not in suspect_user:\n",
    "            suspect_user.append(new)\n",
    "          else:\n",
    "            pass\n",
    "      else :\n",
    "        pass\n",
    "    \n",
    "    else:\n",
    "      pass\n",
    "\n",
    "  # append shopid_suspect and userid_suspect\n",
    "  shopid_suspect.append(shop)\n",
    "  if len(suspect_user) == 0:\n",
    "    userid_suspect.append('0')\n",
    "  elif len(suspect_user) == 1:\n",
    "    userid_suspect.append(str(suspect_user[0]))\n",
    "  else:\n",
    "    str_suspect = []\n",
    "    for suspect in suspect_user:\n",
    "      str_suspect.append(str(suspect))\n",
    "    userid_suspect.append('&'.join(str_suspect))"
   ]
  },
  {
   "cell_type": "code",
   "execution_count": 0,
   "metadata": {
    "colab": {
     "base_uri": "https://localhost:8080/",
     "height": 32
    },
    "colab_type": "code",
    "executionInfo": {
     "elapsed": 325877,
     "status": "ok",
     "timestamp": 1592156180614,
     "user": {
      "displayName": "Agung Nugraha",
      "photoUrl": "https://lh3.googleusercontent.com/a-/AOh14Gju0l9fw6mpegA9XB8wB0jIGys2fndafghCNT34=s64",
      "userId": "05431098293597612539"
     },
     "user_tz": -420
    },
    "id": "osxA1i-ehy8B",
    "outputId": "ddaa7c72-e449-4c6e-ccf7-c57876538382"
   },
   "outputs": [
    {
     "data": {
      "text/plain": [
       "'215382704'"
      ]
     },
     "execution_count": 150,
     "metadata": {
      "tags": []
     },
     "output_type": "execute_result"
    }
   ],
   "source": [
    "index = shopid_suspect.index(8996761)\n",
    "userid_suspect[index]"
   ]
  },
  {
   "cell_type": "markdown",
   "metadata": {
    "colab_type": "text",
    "id": "auM8yzPCmp1B"
   },
   "source": [
    "> yeay the result is same, next make it to dataframe"
   ]
  },
  {
   "cell_type": "code",
   "execution_count": 0,
   "metadata": {
    "colab": {
     "base_uri": "https://localhost:8080/",
     "height": 1000,
     "output_embedded_package_id": "1KsaxTg5BaxCtLEUDlB2cQLVFxrnEkgPR"
    },
    "colab_type": "code",
    "executionInfo": {
     "elapsed": 4771,
     "status": "ok",
     "timestamp": 1592156185453,
     "user": {
      "displayName": "Agung Nugraha",
      "photoUrl": "https://lh3.googleusercontent.com/a-/AOh14Gju0l9fw6mpegA9XB8wB0jIGys2fndafghCNT34=s64",
      "userId": "05431098293597612539"
     },
     "user_tz": -420
    },
    "id": "Ig2XSjnRjpYs",
    "outputId": "4a4a2efe-6050-4312-f2bc-318b545badb1"
   },
   "outputs": [
    {
     "data": {
      "text/plain": [
       "Output hidden; open in https://colab.research.google.com to view."
      ]
     },
     "metadata": {},
     "output_type": "display_data"
    }
   ],
   "source": [
    "df_submission = pd.DataFrame({\n",
    "    'shopid' : shopid_suspect,\n",
    "    'userid' : userid_suspect\n",
    "})\n",
    "df_submission"
   ]
  },
  {
   "cell_type": "code",
   "execution_count": 0,
   "metadata": {
    "colab": {},
    "colab_type": "code",
    "id": "gQxTzFyGnB-Y"
   },
   "outputs": [],
   "source": [
    "df_submission.to_csv('gdrive/My Drive/Data Science Project/Shoppe Code Challenge 2020/Order Brushing/submission_agung.csv',index=False)\n",
    "\n",
    "###\n",
    "###\n",
    "## Accucary submission = 0.89196"
   ]
  },
  {
   "cell_type": "code",
   "execution_count": 0,
   "metadata": {
    "colab": {
     "base_uri": "https://localhost:8080/",
     "height": 164
    },
    "colab_type": "code",
    "executionInfo": {
     "elapsed": 1470,
     "status": "ok",
     "timestamp": 1592156277079,
     "user": {
      "displayName": "Agung Nugraha",
      "photoUrl": "https://lh3.googleusercontent.com/a-/AOh14Gju0l9fw6mpegA9XB8wB0jIGys2fndafghCNT34=s64",
      "userId": "05431098293597612539"
     },
     "user_tz": -420
    },
    "id": "PCEXgVuKqRI3",
    "outputId": "416bae79-5f97-4bb9-d742-67aaf158ae31"
   },
   "outputs": [
    {
     "name": "stdout",
     "output_type": "stream",
     "text": [
      "<class 'pandas.core.frame.DataFrame'>\n",
      "RangeIndex: 18770 entries, 0 to 18769\n",
      "Data columns (total 2 columns):\n",
      " #   Column  Non-Null Count  Dtype \n",
      "---  ------  --------------  ----- \n",
      " 0   shopid  18770 non-null  int64 \n",
      " 1   userid  18770 non-null  object\n",
      "dtypes: int64(1), object(1)\n",
      "memory usage: 293.4+ KB\n"
     ]
    }
   ],
   "source": [
    "df_test = pd.read_csv('gdrive/My Drive/Data Science Project/Shoppe Code Challenge 2020/Order Brushing/submission_agung.csv')\n",
    "df_test.info()"
   ]
  },
  {
   "cell_type": "code",
   "execution_count": 0,
   "metadata": {
    "colab": {
     "base_uri": "https://localhost:8080/",
     "height": 201
    },
    "colab_type": "code",
    "executionInfo": {
     "elapsed": 1513,
     "status": "ok",
     "timestamp": 1592156280443,
     "user": {
      "displayName": "Agung Nugraha",
      "photoUrl": "https://lh3.googleusercontent.com/a-/AOh14Gju0l9fw6mpegA9XB8wB0jIGys2fndafghCNT34=s64",
      "userId": "05431098293597612539"
     },
     "user_tz": -420
    },
    "id": "BtlKlnIPqe7I",
    "outputId": "96cffb0c-ba0d-4da4-d5be-e586eae077a3"
   },
   "outputs": [
    {
     "data": {
      "text/html": [
       "<div>\n",
       "<style scoped>\n",
       "    .dataframe tbody tr th:only-of-type {\n",
       "        vertical-align: middle;\n",
       "    }\n",
       "\n",
       "    .dataframe tbody tr th {\n",
       "        vertical-align: top;\n",
       "    }\n",
       "\n",
       "    .dataframe thead th {\n",
       "        text-align: right;\n",
       "    }\n",
       "</style>\n",
       "<table border=\"1\" class=\"dataframe\">\n",
       "  <thead>\n",
       "    <tr style=\"text-align: right;\">\n",
       "      <th></th>\n",
       "      <th>shopid</th>\n",
       "      <th>userid</th>\n",
       "    </tr>\n",
       "  </thead>\n",
       "  <tbody>\n",
       "    <tr>\n",
       "      <th>0</th>\n",
       "      <td>10009</td>\n",
       "      <td>0</td>\n",
       "    </tr>\n",
       "    <tr>\n",
       "      <th>1</th>\n",
       "      <td>10051</td>\n",
       "      <td>0</td>\n",
       "    </tr>\n",
       "    <tr>\n",
       "      <th>2</th>\n",
       "      <td>10061</td>\n",
       "      <td>0</td>\n",
       "    </tr>\n",
       "    <tr>\n",
       "      <th>3</th>\n",
       "      <td>10084</td>\n",
       "      <td>0</td>\n",
       "    </tr>\n",
       "    <tr>\n",
       "      <th>4</th>\n",
       "      <td>10100</td>\n",
       "      <td>0</td>\n",
       "    </tr>\n",
       "  </tbody>\n",
       "</table>\n",
       "</div>"
      ],
      "text/plain": [
       "   shopid userid\n",
       "0   10009      0\n",
       "1   10051      0\n",
       "2   10061      0\n",
       "3   10084      0\n",
       "4   10100      0"
      ]
     },
     "execution_count": 154,
     "metadata": {
      "tags": []
     },
     "output_type": "execute_result"
    }
   ],
   "source": [
    "df_test.head()"
   ]
  },
  {
   "cell_type": "markdown",
   "metadata": {
    "colab_type": "text",
    "id": "Gomvfw1jdof_"
   },
   "source": [
    "# Try another way, orderproportion\n"
   ]
  },
  {
   "cell_type": "code",
   "execution_count": 56,
   "metadata": {
    "colab": {
     "base_uri": "https://localhost:8080/",
     "height": 115
    },
    "colab_type": "code",
    "executionInfo": {
     "elapsed": 1031,
     "status": "ok",
     "timestamp": 1592188827167,
     "user": {
      "displayName": "Agung Nugraha",
      "photoUrl": "https://lh3.googleusercontent.com/a-/AOh14Gju0l9fw6mpegA9XB8wB0jIGys2fndafghCNT34=s64",
      "userId": "05431098293597612539"
     },
     "user_tz": -420
    },
    "id": "A2ykwP6cqneg",
    "outputId": "3f73ffc6-d1c1-47b4-f9c3-a93d324689f2"
   },
   "outputs": [
    {
     "name": "stdout",
     "output_type": "stream",
     "text": [
      "shopid : [8996761] user : ['215382704']\n"
     ]
    },
    {
     "name": "stderr",
     "output_type": "stream",
     "text": [
      "/usr/local/lib/python3.6/dist-packages/ipykernel_launcher.py:2: SettingWithCopyWarning: \n",
      "A value is trying to be set on a copy of a slice from a DataFrame\n",
      "\n",
      "See the caveats in the documentation: https://pandas.pydata.org/pandas-docs/stable/user_guide/indexing.html#returning-a-view-versus-a-copy\n",
      "  \n"
     ]
    }
   ],
   "source": [
    "df_example = df[df['shopid'] == 8996761]\n",
    "df_example.sort_values(by='event_time',inplace=True)\n",
    "df_example.reset_index(inplace=True,drop=True)\n",
    "shopid_suspect = [df_example.iloc[0]['shopid']]\n",
    "userid_suspect = []\n",
    "#-----------------------\n",
    "suspect_user = []\n",
    "idx_brushing = [] \n",
    "proportion = 0\n",
    "df_brushing = None\n",
    "for idx in range(len(df_example)):\n",
    "  # check concentrate\n",
    "  Date = df_example.loc[idx]['event_time']\n",
    "  Date_end = Date + timedelta(hours=1)\n",
    "  df_perhour = df_example[(df_example['event_time'] >= Date) & (df_example['event_time'] <= Date_end)]\n",
    "  concentrate = len(df_perhour) / len(df_perhour['userid'].unique())\n",
    "  if concentrate >= 3:\n",
    "    idx_brushing.append(idx)\n",
    "  else:\n",
    "    pass\n",
    "  if len(idx_brushing) == 1:\n",
    "    df_brushing = df_example[(df_example['event_time'] >= df_example.loc[idx_brushing[0]]['event_time']) & (df_example['event_time'] <= df_example.loc[idx_brushing[0]]['event_time'] + timedelta(hours=1))]\n",
    "  elif len(idx_brushing) > 1:\n",
    "    df_brushing = df_example[(df_example['event_time'] >= df_example.loc[idx_brushing[0]]['event_time']) & (df_example['event_time'] <= df_example.loc[idx_brushing[0]]['event_time'] + timedelta(hours=1))]\n",
    "    for i in idx_brushing[1:]:\n",
    "      temp_df = df_example[(df_example['event_time'] >= df_example.loc[i]['event_time']) & (df_example['event_time'] <= df_example.loc[i]['event_time'] + timedelta(hours=1))]\n",
    "      df_brushing = pd.concat([df_brushing,temp_df])\n",
    "  else:\n",
    "    pass\n",
    "try:\n",
    "  if len(df_brushing) > 0:\n",
    "    df_proportion = df_brushing.groupby('userid').count().sort_values(by='orderid',ascending=False).reset_index()\n",
    "    proportion_temp = df_proportion['orderid'].max()\n",
    "    df_promax = df_proportion[df_proportion['orderid'] == proportion_temp]\n",
    "    suspect_user = list(df_promax['userid'])\n",
    "  else:\n",
    "    pass\n",
    "except:\n",
    "  pass\n",
    "\n",
    "if len(suspect_user) == 0:\n",
    "  userid_suspect.append('0')\n",
    "elif len(suspect_user) == 1:\n",
    "  userid_suspect.append(str(suspect_user[0]))\n",
    "else:\n",
    "  str_suspect = []\n",
    "  for suspect in suspect_user:\n",
    "    str_suspect.append(str(suspect))\n",
    "  userid_suspect.append('&'.join(str_suspect))\n",
    "\n",
    "print('shopid :',shopid_suspect, 'user :',userid_suspect)\n",
    "\n",
    "# --------------\n",
    "# using this formula to all shopid"
   ]
  },
  {
   "cell_type": "code",
   "execution_count": 57,
   "metadata": {
    "colab": {
     "base_uri": "https://localhost:8080/",
     "height": 98
    },
    "colab_type": "code",
    "executionInfo": {
     "elapsed": 316626,
     "status": "ok",
     "timestamp": 1592189150342,
     "user": {
      "displayName": "Agung Nugraha",
      "photoUrl": "https://lh3.googleusercontent.com/a-/AOh14Gju0l9fw6mpegA9XB8wB0jIGys2fndafghCNT34=s64",
      "userId": "05431098293597612539"
     },
     "user_tz": -420
    },
    "id": "9BowPpgIrQ_K",
    "outputId": "4052f258-ffb7-40a9-9378-b6a5d6bb3612"
   },
   "outputs": [
    {
     "name": "stderr",
     "output_type": "stream",
     "text": [
      "/usr/local/lib/python3.6/dist-packages/ipykernel_launcher.py:6: SettingWithCopyWarning: \n",
      "A value is trying to be set on a copy of a slice from a DataFrame\n",
      "\n",
      "See the caveats in the documentation: https://pandas.pydata.org/pandas-docs/stable/user_guide/indexing.html#returning-a-view-versus-a-copy\n",
      "  \n"
     ]
    }
   ],
   "source": [
    "shopid_suspect = []\n",
    "userid_suspect = []\n",
    "#-----------------------\n",
    "for shop in shopid_unique:\n",
    "  df_unique = df[df['shopid'] == shop]\n",
    "  df_unique.sort_values(by='event_time',inplace=True)\n",
    "  df_unique.reset_index(inplace=True,drop=True)\n",
    "\n",
    "  suspect_user = []\n",
    "  idx_brushing = [] \n",
    "  proportion = 0\n",
    "  df_brushing = None\n",
    "  for idx in range(len(df_unique)):\n",
    "    # check concentrate\n",
    "    Date = df_unique.loc[idx]['event_time']\n",
    "    Date_end = Date + timedelta(hours=1)\n",
    "    df_perhour = df_unique[(df_unique['event_time'] >= Date) & (df_unique['event_time'] <= Date_end)]\n",
    "    concentrate = len(df_perhour) / len(df_perhour['userid'].unique())\n",
    "    if concentrate >= 3:\n",
    "      idx_brushing.append(idx)\n",
    "    else:\n",
    "      pass\n",
    "    if len(idx_brushing) == 1:\n",
    "      df_brushing = df_unique[(df_unique['event_time'] >= df_unique.loc[idx_brushing[0]]['event_time']) & (df_unique['event_time'] <= df_unique.loc[idx_brushing[0]]['event_time'] + timedelta(hours=1))]\n",
    "    elif len(idx_brushing) > 1:\n",
    "      df_brushing = df_unique[(df_unique['event_time'] >= df_unique.loc[idx_brushing[0]]['event_time']) & (df_unique['event_time'] <= df_unique.loc[idx_brushing[0]]['event_time'] + timedelta(hours=1))]\n",
    "      for i in idx_brushing[1:]:\n",
    "        temp_df = df_unique[(df_unique['event_time'] >= df_unique.loc[i]['event_time']) & (df_unique['event_time'] <= df_unique.loc[i]['event_time'] + timedelta(hours=1))]\n",
    "        df_brushing = pd.concat([df_brushing,temp_df])\n",
    "    else:\n",
    "      pass\n",
    "  try:\n",
    "    if len(df_brushing) > 0:\n",
    "      df_proportion = df_brushing.groupby('userid').count().sort_values(by='orderid',ascending=False).reset_index()\n",
    "      proportion_temp = df_proportion['orderid'].max()\n",
    "      df_promax = df_proportion[df_proportion['orderid'] == proportion_temp]\n",
    "      suspect_user = list(df_promax['userid'])\n",
    "    else:\n",
    "      pass\n",
    "  except:\n",
    "    pass\n",
    "  # append shopid_suspect and userid_suspect\n",
    "  shopid_suspect.append(shop)\n",
    "  if len(suspect_user) == 0:\n",
    "    userid_suspect.append('0')\n",
    "  elif len(suspect_user) == 1:\n",
    "    userid_suspect.append(str(suspect_user[0]))\n",
    "  else:\n",
    "    str_suspect = []\n",
    "    for suspect in suspect_user:\n",
    "      str_suspect.append(str(suspect))\n",
    "    userid_suspect.append('&'.join(str_suspect))"
   ]
  },
  {
   "cell_type": "code",
   "execution_count": 58,
   "metadata": {
    "colab": {
     "base_uri": "https://localhost:8080/",
     "height": 32
    },
    "colab_type": "code",
    "executionInfo": {
     "elapsed": 2443,
     "status": "ok",
     "timestamp": 1592189152795,
     "user": {
      "displayName": "Agung Nugraha",
      "photoUrl": "https://lh3.googleusercontent.com/a-/AOh14Gju0l9fw6mpegA9XB8wB0jIGys2fndafghCNT34=s64",
      "userId": "05431098293597612539"
     },
     "user_tz": -420
    },
    "id": "-V0P66rnwP9e",
    "outputId": "e35ada80-0316-4abd-e904-20e5163aeeb8"
   },
   "outputs": [
    {
     "data": {
      "text/plain": [
       "'215382704'"
      ]
     },
     "execution_count": 58,
     "metadata": {
      "tags": []
     },
     "output_type": "execute_result"
    }
   ],
   "source": [
    "index = shopid_suspect.index(8996761)\n",
    "userid_suspect[index]"
   ]
  },
  {
   "cell_type": "code",
   "execution_count": 60,
   "metadata": {
    "colab": {
     "base_uri": "https://localhost:8080/",
     "height": 1000,
     "output_embedded_package_id": "1k7QNKLGe8COa9V7BMImTS8pRuAu9NrFd"
    },
    "colab_type": "code",
    "executionInfo": {
     "elapsed": 4507,
     "status": "ok",
     "timestamp": 1592189227786,
     "user": {
      "displayName": "Agung Nugraha",
      "photoUrl": "https://lh3.googleusercontent.com/a-/AOh14Gju0l9fw6mpegA9XB8wB0jIGys2fndafghCNT34=s64",
      "userId": "05431098293597612539"
     },
     "user_tz": -420
    },
    "id": "wPY5rlrQvxJu",
    "outputId": "e0b51e21-a47e-4058-b24b-9103adb49e00"
   },
   "outputs": [
    {
     "data": {
      "text/plain": [
       "Output hidden; open in https://colab.research.google.com to view."
      ]
     },
     "metadata": {},
     "output_type": "display_data"
    }
   ],
   "source": [
    "pd.set_option('max_rows',20000)\n",
    "df_submission2 = pd.DataFrame({\n",
    "    'shopid' : shopid_suspect,\n",
    "    'userid' : userid_suspect\n",
    "})\n",
    "df_submission2"
   ]
  },
  {
   "cell_type": "code",
   "execution_count": 0,
   "metadata": {
    "colab": {},
    "colab_type": "code",
    "id": "D7yNOZjQxyt4"
   },
   "outputs": [],
   "source": [
    "df_submission2.to_csv('gdrive/My Drive/Data Science Project/Shoppe Code Challenge 2020/Order Brushing/submission2_agung.csv',index=False)\n",
    "\n",
    "\n",
    "\n",
    "###\n",
    "###\n",
    "## Accucary submission = 0.89687"
   ]
  },
  {
   "cell_type": "code",
   "execution_count": 0,
   "metadata": {
    "colab": {},
    "colab_type": "code",
    "id": "IF9H-l3IM0Kv"
   },
   "outputs": [],
   "source": []
  }
 ],
 "metadata": {
  "colab": {
   "authorship_tag": "ABX9TyPyLvtw36nk1/PRU/XsR/Sx",
   "collapsed_sections": [],
   "name": "Agung_Brushing_Test.ipynb",
   "provenance": []
  },
  "kernelspec": {
   "display_name": "Python 3",
   "language": "python",
   "name": "python3"
  },
  "language_info": {
   "codemirror_mode": {
    "name": "ipython",
    "version": 3
   },
   "file_extension": ".py",
   "mimetype": "text/x-python",
   "name": "python",
   "nbconvert_exporter": "python",
   "pygments_lexer": "ipython3",
   "version": "3.7.4"
  }
 },
 "nbformat": 4,
 "nbformat_minor": 1
}
